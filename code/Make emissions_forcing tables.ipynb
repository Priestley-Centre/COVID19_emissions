{
 "cells": [
  {
   "cell_type": "markdown",
   "metadata": {},
   "source": [
    "Make csv tables\n",
    "GtC/yr for CO2\n",
    "\n",
    "Mt/yr for CH4, N2O (in units of N2 – don’t ask me why), SOx (in units of S), CO, NMVOC, NOx (in units of N), BC, OC, NH3\n",
    "kt/yr for everything else.\n",
    "\n",
    "Concentrations are ppm for CO2, ppb for CH4 and N2O, ppt for everything else.\n",
    "\n",
    "constants module"
   ]
  },
  {
   "cell_type": "code",
   "execution_count": 1,
   "metadata": {},
   "outputs": [],
   "source": [
    "import numpy as np\n",
    "import scipy.stats as st\n",
    "import pandas as pd\n",
    "import matplotlib.pyplot as pl\n",
    "import os\n",
    "import urllib\n",
    "import json\n",
    "from matplotlib import rc\n",
    "from matplotlib.ticker import AutoMinorLocator\n",
    "from scipy.stats import gaussian_kde\n",
    "from scipy.optimize import root\n",
    "from scipy.signal import savgol_filter\n",
    "from scipy.interpolate import interp1d\n",
    "from fair.forcing.ghg import etminan\n",
    "from fair.constants import molwt"
   ]
  },
  {
   "cell_type": "code",
   "execution_count": 2,
   "metadata": {},
   "outputs": [
    {
     "name": "stdout",
     "output_type": "stream",
     "text": [
      "['/Users/earpmf/OneDrive - University of Leeds/PYTHON/Corinne', '/Users/earpmf/opt/anaconda3/lib/python37.zip', '/Users/earpmf/opt/anaconda3/lib/python3.7', '/Users/earpmf/opt/anaconda3/lib/python3.7/lib-dynload', '', '/Users/earpmf/opt/anaconda3/lib/python3.7/site-packages', '/Users/earpmf/opt/anaconda3/lib/python3.7/site-packages/aeosa', '/Users/earpmf/opt/anaconda3/lib/python3.7/site-packages/IPython/extensions', '/Users/earpmf/.ipython', '/Users/earpmf/PYTHON/twolayermodel/', '/Users/earpmf/PYTHON/AR6_aerosols/scripts']\n"
     ]
    }
   ],
   "source": [
    "import sys\n",
    "sys.path.append('/Users/earpmf/PYTHON/twolayermodel/')\n",
    "sys.path.append('/Users/earpmf/PYTHON/AR6_aerosols/scripts')\n",
    "print (sys.path)"
   ]
  },
  {
   "cell_type": "code",
   "execution_count": 3,
   "metadata": {},
   "outputs": [],
   "source": [
    "emissions_g2_2=np.load('/Users/earpmf/PYTHON/Piers-climate/data/emissions_ndc_month_g2_2.npy')\n",
    "emissions_g1_3=np.load('/Users/earpmf/PYTHON/Piers-climate/data/emissions_ndc_month_g1_3.npy')\n",
    "emissions_g3=np.load('/Users/earpmf/PYTHON/Piers-climate/data/emissions_ndc_month_g3.npy')\n",
    "emissions_base=np.load('/Users/earpmf/PYTHON/Piers-climate/data/emissions_ndc_month_base.npy')\n",
    "emissions_g4=np.load('/Users/earpmf/PYTHON/Piers-climate/data/emissions_ndc_month_g4.npy')\n",
    "Fsolar_month=np.load('/Users/earpmf/PYTHON/Piers-climate/data/solarf_month.npy')\n",
    "Fvolcanic_month=np.load('/Users/earpmf/PYTHON/Piers-climate/data/volcanicf_month.npy')\n",
    "naturale_month=np.load('/Users/earpmf/PYTHON/Piers-climate/data/naturale_month.npy')\n",
    "                       \n",
    "                       \n",
    "pd.DataFrame(emissions_g2_2).to_csv(\"outputs/emissions_ndc_month_g2_2.csv\")\n",
    "pd.DataFrame(emissions_g1_3).to_csv(\"outputs/emissions_ndc_month_g1_3.csv\")\n",
    "pd.DataFrame(emissions_g3).to_csv(\"outputs/emissions_ndc_month_g3.csv\")\n",
    "pd.DataFrame(emissions_base).to_csv(\"outputs/emissions_ndc_month_base.csv\")\n",
    "pd.DataFrame(emissions_g3).to_csv(\"outputs/emissions_ndc_month_g4.csv\")"
   ]
  },
  {
   "cell_type": "code",
   "execution_count": 4,
   "metadata": {},
   "outputs": [
    {
     "name": "stdout",
     "output_type": "stream",
     "text": [
      "[190.5807   8.9883]\n",
      "(736,)\n"
     ]
    },
    {
     "data": {
      "text/plain": [
       "'1.5+0.g152cd0d.dirty'"
      ]
     },
     "execution_count": 4,
     "metadata": {},
     "output_type": "execute_result"
    }
   ],
   "source": [
    "from fair.ancil import natural, cmip6_volcanic, cmip6_solar, historical_scaling\n",
    "n=natural.Emissions.emissions\n",
    "print(n[300,:])\n",
    "print (cmip6_volcanic.Forcing.volcanic.shape)\n",
    "\n",
    "import sys\n",
    "sys.path.append('/Users/earpmf/PYTHON/FAIR/')\n",
    "#sys.path.append('/Users/earpmf/PYTHON/AR6_aerosols/scripts')\n",
    "#print (sys.path)\n",
    "\n",
    "import fair_mod\n",
    "#import fair\n",
    "fair_mod.__version__"
   ]
  },
  {
   "cell_type": "code",
   "execution_count": 5,
   "metadata": {},
   "outputs": [
    {
     "name": "stdout",
     "output_type": "stream",
     "text": [
      "<class 'numpy.ndarray'> [1.6  2.75]\n",
      "fggfgfgfg_test2\n",
      "<class 'numpy.ndarray'> [1.6  2.75]\n",
      "fggfgfgfg_test2\n",
      "<class 'numpy.ndarray'> [1.6  2.75]\n",
      "fggfgfgfg_test2\n",
      "<class 'numpy.ndarray'> [1.6  2.75]\n",
      "fggfgfgfg_test2\n",
      "<class 'numpy.ndarray'> [1.6  2.75]\n",
      "fggfgfgfg_test2\n"
     ]
    }
   ],
   "source": [
    "C22, F22, T22 = fair_mod.forward.fair_scm(emissions=emissions_g2_2,\n",
    "                                             F_volcanic=Fvolcanic_month,F_solar=Fsolar_month,\n",
    "                                             natural=naturale_month)\n",
    "Cbase, Fbase, Tbase = fair_mod.forward.fair_scm(emissions=emissions_base,\n",
    "                                             F_volcanic=Fvolcanic_month,F_solar=Fsolar_month,\n",
    "                                             natural=naturale_month)\n",
    "C13, F13, T22 = fair_mod.forward.fair_scm(emissions=emissions_g1_3,\n",
    "                                             F_volcanic=Fvolcanic_month,F_solar=Fsolar_month,\n",
    "                                             natural=naturale_month)\n",
    "C3, F3, T3 = fair_mod.forward.fair_scm(emissions=emissions_g3,\n",
    "                                             F_volcanic=Fvolcanic_month,F_solar=Fsolar_month,\n",
    "                                             natural=naturale_month)\n",
    "C4, F4, T4 = fair_mod.forward.fair_scm(emissions=emissions_g4,\n",
    "                                             F_volcanic=Fvolcanic_month,F_solar=Fsolar_month,\n",
    "                                             natural=naturale_month)"
   ]
  },
  {
   "cell_type": "code",
   "execution_count": 6,
   "metadata": {},
   "outputs": [
    {
     "data": {
      "text/plain": [
       "(3432, 31)"
      ]
     },
     "execution_count": 6,
     "metadata": {},
     "output_type": "execute_result"
    }
   ],
   "source": [
    "C22.shape"
   ]
  },
  {
   "cell_type": "code",
   "execution_count": 7,
   "metadata": {},
   "outputs": [],
   "source": [
    "Clist   = ['CO2(ppm)', 'CH4(ppb)', 'N2O(ppb)', 'CF4(ppt)', 'C2F6(ppt)', 'C6F14(ppt)', 'HFC23(ppt)', 'HFC32(ppt)', 'HFC43_10(ppt)', 'HFC125(ppt)',\n",
    "            'HFC134A(ppt)', 'HFC143A(ppt)', 'HFC227EA(ppt)', 'HFC245FA(ppt)', 'SF6(ppt)', 'CFC11(ppt)', 'CFC12(ppt)', 'CFC113(ppt)',\n",
    "            'CFC114(ppt)', 'CFC115(ppt)', 'CARB_TET(ppt)', 'MCF(ppt)','HCFC22(ppt)', 'HCFC141B(ppt)', 'HCFC142B(ppt)',\n",
    "            'HALON1211(ppt)', 'HALON1202(ppt)', 'HALON1301(ppt)', 'HALON2402(ppt)', 'CH3BR(ppt)', 'CH3CL(ppt)']\n",
    "Clistc   = ['year','CO2(ppm)', 'CH4(ppb)', 'N2O(ppb)', 'CF4(ppt)', 'C2F6(ppt)', 'C6F14(ppt)', 'HFC23(ppt)', 'HFC32(ppt)', 'HFC43_10(ppt)', 'HFC125(ppt)',\n",
    "            'HFC134A(ppt)', 'HFC143A(ppt)', 'HFC227EA(ppt)', 'HFC245FA(ppt)', 'SF6(ppt)', 'CFC11(ppt)', 'CFC12(ppt)', 'CFC113(ppt)',\n",
    "            'CFC114(ppt)', 'CFC115(ppt)', 'CARB_TET(ppt)', 'MCF(ppt)','HCFC22(ppt)', 'HCFC141B(ppt)', 'HCFC142B(ppt)',\n",
    "            'HALON1211(ppt)', 'HALON1202(ppt)', 'HALON1301(ppt)', 'HALON2402(ppt)', 'CH3BR(ppt)', 'CH3CL(ppt)']\n"
   ]
  },
  {
   "cell_type": "code",
   "execution_count": 8,
   "metadata": {},
   "outputs": [],
   "source": [
    "Elist=['year','co2_fossil(GtC/year)','co2_land(GtC/year)','ch4(Mt/year)','n2o(Mt(N2)/year)','sox(MtS/year)','co(Mt/year)','nmvoc(Mt/year)','nox(MtN/year)','bc(Mt/year)',\n",
    "       'oc(Mt/year)','nh3(Mt/year)','cf4(kt/year)',\n",
    "       'c2f6(kt/year)','c6f14(kt/year)','hfc23(kt/year)','hfc32(kt/year)','hfc43_10(kt/year)',\n",
    "       'hfc125(kt/year)','hfc134a(kt/year)','hfc143a(kt/year)','hfc227ea(kt/year)',\n",
    "       'hfc245fa(kt/year)','sf6(kt/year)','cfc11(kt/year)','cfc12(kt/year)','cfc113(kt/year)',\n",
    "       'cfc114(kt/year)','cfc115(kt/year)','carb_tet(kt/year)','mcf(kt/year)','hcfc22(kt/year)',\n",
    "       'hcfc141b(kt/year)','hcfc142b(kt/year)','halon1211(kt/year)','halon1202(kt/year)',\n",
    "       'halon1301(kt/year)','halon2402(kt/year)','ch3br(kt/year)','ch3cl(kt/year)']"
   ]
  },
  {
   "cell_type": "code",
   "execution_count": 9,
   "metadata": {},
   "outputs": [],
   "source": [
    "Flist=['CO2(Wm-2)','CH4(Wm-2)','N2O(Wm-2)','OtherGHG(Wm-2)','Trop_O3(Wm-2)','Strat_O3(Wm-2)','Strat_H2O(Wm-2)','Contrails(Wm-2)',\n",
    "       'total_aerosol(Wm-2)','bc_snow(Wm-2)','land_use_alb(Wm-2)','volcanic(Wm-2)','solar(Wm-2)']\n",
    "Flistc=['year','CO2(Wm-2)','CH4(Wm-2)','N2O(Wm-2)','OtherGHG(Wm-2)','Trop_O3(Wm-2)','Strat_O3(Wm-2)','Strat_H2O(Wm-2)','Contrails(Wm-2)',\n",
    "       'total_aerosol(Wm-2)','bc_snow(Wm-2)','land_use_alb(Wm-2)','volcanic(Wm-2)','solar(Wm-2)']\n",
    "\n"
   ]
  },
  {
   "cell_type": "code",
   "execution_count": 10,
   "metadata": {},
   "outputs": [
    {
     "data": {
      "text/plain": [
       "40"
      ]
     },
     "execution_count": 10,
     "metadata": {},
     "output_type": "execute_result"
    }
   ],
   "source": [
    "len(Elist)"
   ]
  },
  {
   "cell_type": "code",
   "execution_count": 11,
   "metadata": {},
   "outputs": [
    {
     "data": {
      "text/plain": [
       "array([1765.04166667, 1765.125     , 1765.20833333, ..., 2050.79166667,\n",
       "       2050.875     , 2050.95833333])"
      ]
     },
     "execution_count": 11,
     "metadata": {},
     "output_type": "execute_result"
    }
   ],
   "source": [
    "emissions_base[:,0]"
   ]
  },
  {
   "cell_type": "code",
   "execution_count": 12,
   "metadata": {},
   "outputs": [],
   "source": [
    "dfF=pd.DataFrame(columns=Flist,data=Fbase)\n",
    "dfC=pd.DataFrame(columns=Clist,data=Cbase)\n",
    "dfE=pd.DataFrame(columns=Elist,data=emissions_base)\n",
    "dfF['year']=emissions_base[:,0]\n",
    "dfC['year']=emissions_base[:,0]\n",
    "dfF.set_index('year')\n",
    "dfC.set_index('year')\n",
    "with pd.ExcelWriter('Base_pathway.xlsx') as writer:\n",
    "    dfE.to_excel(writer,\n",
    "             sheet_name='Emissions')\n",
    "    dfC.to_excel(writer,\n",
    "             sheet_name='Concentrations',columns=Clistc)\n",
    "    dfF.to_excel(writer,\n",
    "             sheet_name='Radiative Forcing',columns=Flistc)"
   ]
  },
  {
   "cell_type": "code",
   "execution_count": 13,
   "metadata": {},
   "outputs": [],
   "source": [
    "dfF=pd.DataFrame(columns=Flist,data=F3)\n",
    "dfC=pd.DataFrame(columns=Clist,data=C3)\n",
    "dfE=pd.DataFrame(columns=Elist,data=emissions_g3)\n",
    "dfF['year']=emissions_base[:,0]\n",
    "dfC['year']=emissions_base[:,0]\n",
    "dfF.set_index('year')\n",
    "dfC.set_index('year')\n",
    "with pd.ExcelWriter('TwoYearBlip_pathway.xlsx') as writer:\n",
    "    dfE.to_excel(writer,\n",
    "             sheet_name='Emissions')\n",
    "    dfC.to_excel(writer,\n",
    "             sheet_name='Concentrations',columns=Clistc)\n",
    "    dfF.to_excel(writer,\n",
    "             sheet_name='Radiative Forcing',columns=Flistc)"
   ]
  },
  {
   "cell_type": "code",
   "execution_count": 14,
   "metadata": {},
   "outputs": [],
   "source": [
    "dfF=pd.DataFrame(columns=Flist,data=F22)\n",
    "dfC=pd.DataFrame(columns=Clist,data=C22)\n",
    "dfE=pd.DataFrame(columns=Elist,data=emissions_g2_2)\n",
    "dfF['year']=emissions_base[:,0]\n",
    "dfC['year']=emissions_base[:,0]\n",
    "dfF.set_index('year')\n",
    "dfC.set_index('year')\n",
    "with pd.ExcelWriter('FossilFuel_pathway.xlsx') as writer:\n",
    "    dfE.to_excel(writer,\n",
    "             sheet_name='Emissions')\n",
    "    dfC.to_excel(writer,\n",
    "             sheet_name='Concentrations',columns=Clistc)\n",
    "    dfF.to_excel(writer,\n",
    "             sheet_name='Radiative Forcing',columns=Flistc)"
   ]
  },
  {
   "cell_type": "code",
   "execution_count": 15,
   "metadata": {},
   "outputs": [],
   "source": [
    "dfF=pd.DataFrame(columns=Flist,data=F13)\n",
    "dfC=pd.DataFrame(columns=Clist,data=C13)\n",
    "dfE=pd.DataFrame(columns=Elist,data=emissions_g1_3)\n",
    "dfF['year']=emissions_base[:,0]\n",
    "dfC['year']=emissions_base[:,0]\n",
    "dfF.set_index('year')\n",
    "dfC.set_index('year')\n",
    "with pd.ExcelWriter('ModerateGreen_pathway.xlsx') as writer:\n",
    "    dfE.to_excel(writer,\n",
    "             sheet_name='Emissions')\n",
    "    dfC.to_excel(writer,\n",
    "             sheet_name='Concentrations',columns=Clistc)\n",
    "    dfF.to_excel(writer,\n",
    "             sheet_name='Radiative Forcing',columns=Flistc)"
   ]
  },
  {
   "cell_type": "code",
   "execution_count": 16,
   "metadata": {},
   "outputs": [],
   "source": [
    "dfF=pd.DataFrame(columns=Flist,data=F4)\n",
    "dfC=pd.DataFrame(columns=Clist,data=C4)\n",
    "dfE=pd.DataFrame(columns=Elist,data=emissions_g4)\n",
    "dfF['year']=emissions_base[:,0]\n",
    "dfC['year']=emissions_base[:,0]\n",
    "dfF.set_index('year')\n",
    "dfC.set_index('year')\n",
    "with pd.ExcelWriter('StrongGreen_pathway.xlsx') as writer:\n",
    "    dfE.to_excel(writer,\n",
    "             sheet_name='Emissions')\n",
    "    dfC.to_excel(writer,\n",
    "             sheet_name='Concentrations',columns=Clistc)\n",
    "    dfF.to_excel(writer,\n",
    "             sheet_name='Radiative Forcing',columns=Flistc)"
   ]
  },
  {
   "cell_type": "code",
   "execution_count": null,
   "metadata": {},
   "outputs": [],
   "source": []
  }
 ],
 "metadata": {
  "kernelspec": {
   "display_name": "Python 3",
   "language": "python",
   "name": "python3"
  },
  "language_info": {
   "codemirror_mode": {
    "name": "ipython",
    "version": 3
   },
   "file_extension": ".py",
   "mimetype": "text/x-python",
   "name": "python",
   "nbconvert_exporter": "python",
   "pygments_lexer": "ipython3",
   "version": "3.7.7"
  }
 },
 "nbformat": 4,
 "nbformat_minor": 4
}
